{
  "nbformat": 4,
  "nbformat_minor": 0,
  "metadata": {
    "colab": {
      "name": "감성분석최종",
      "provenance": [],
      "collapsed_sections": []
    },
    "kernelspec": {
      "name": "python3",
      "display_name": "Python 3"
    }
  },
  "cells": [
    {
      "cell_type": "code",
      "metadata": {
        "colab": {
          "base_uri": "https://localhost:8080/"
        },
        "id": "iPlAdL3kKXpn",
        "outputId": "84ce0245-cc40-45a6-e8c4-51b8bf63ed11"
      },
      "source": [
        "#드라이브 연결\r\n",
        "import os, sys\r\n",
        "from google.colab import drive\r\n",
        "drive.mount('/gdrive')\r\n",
        "os.chdir('/gdrive/My Drive/유튜브댓글 프로젝트')"
      ],
      "execution_count": null,
      "outputs": [
        {
          "output_type": "stream",
          "text": [
            "Mounted at /gdrive\n"
          ],
          "name": "stdout"
        }
      ]
    },
    {
      "cell_type": "code",
      "metadata": {
        "colab": {
          "base_uri": "https://localhost:8080/"
        },
        "id": "7JSOlnyQfAlM",
        "outputId": "210f4714-fda4-4728-9449-007ad7487c54"
      },
      "source": [
        "! pip install konlpy"
      ],
      "execution_count": null,
      "outputs": [
        {
          "output_type": "stream",
          "text": [
            "Collecting konlpy\n",
            "\u001b[?25l  Downloading https://files.pythonhosted.org/packages/85/0e/f385566fec837c0b83f216b2da65db9997b35dd675e107752005b7d392b1/konlpy-0.5.2-py2.py3-none-any.whl (19.4MB)\n",
            "\u001b[K     |████████████████████████████████| 19.4MB 1.9MB/s \n",
            "\u001b[?25hRequirement already satisfied: lxml>=4.1.0 in /usr/local/lib/python3.6/dist-packages (from konlpy) (4.2.6)\n",
            "Collecting beautifulsoup4==4.6.0\n",
            "\u001b[?25l  Downloading https://files.pythonhosted.org/packages/9e/d4/10f46e5cfac773e22707237bfcd51bbffeaf0a576b0a847ec7ab15bd7ace/beautifulsoup4-4.6.0-py3-none-any.whl (86kB)\n",
            "\u001b[K     |████████████████████████████████| 92kB 12.3MB/s \n",
            "\u001b[?25hCollecting JPype1>=0.7.0\n",
            "\u001b[?25l  Downloading https://files.pythonhosted.org/packages/b7/21/9e2c0dbf9df856e6392a1aec1d18006c60b175aa4e31d351e8278a8a63c0/JPype1-1.2.0-cp36-cp36m-manylinux2010_x86_64.whl (453kB)\n",
            "\u001b[K     |████████████████████████████████| 460kB 47.3MB/s \n",
            "\u001b[?25hCollecting tweepy>=3.7.0\n",
            "  Downloading https://files.pythonhosted.org/packages/67/c3/6bed87f3b1e5ed2f34bd58bf7978e308c86e255193916be76e5a5ce5dfca/tweepy-3.10.0-py2.py3-none-any.whl\n",
            "Requirement already satisfied: numpy>=1.6 in /usr/local/lib/python3.6/dist-packages (from konlpy) (1.19.4)\n",
            "Collecting colorama\n",
            "  Downloading https://files.pythonhosted.org/packages/44/98/5b86278fbbf250d239ae0ecb724f8572af1c91f4a11edf4d36a206189440/colorama-0.4.4-py2.py3-none-any.whl\n",
            "Requirement already satisfied: typing-extensions; python_version < \"3.8\" in /usr/local/lib/python3.6/dist-packages (from JPype1>=0.7.0->konlpy) (3.7.4.3)\n",
            "Requirement already satisfied: six>=1.10.0 in /usr/local/lib/python3.6/dist-packages (from tweepy>=3.7.0->konlpy) (1.15.0)\n",
            "Requirement already satisfied: requests-oauthlib>=0.7.0 in /usr/local/lib/python3.6/dist-packages (from tweepy>=3.7.0->konlpy) (1.3.0)\n",
            "Requirement already satisfied: requests[socks]>=2.11.1 in /usr/local/lib/python3.6/dist-packages (from tweepy>=3.7.0->konlpy) (2.23.0)\n",
            "Requirement already satisfied: oauthlib>=3.0.0 in /usr/local/lib/python3.6/dist-packages (from requests-oauthlib>=0.7.0->tweepy>=3.7.0->konlpy) (3.1.0)\n",
            "Requirement already satisfied: certifi>=2017.4.17 in /usr/local/lib/python3.6/dist-packages (from requests[socks]>=2.11.1->tweepy>=3.7.0->konlpy) (2020.12.5)\n",
            "Requirement already satisfied: chardet<4,>=3.0.2 in /usr/local/lib/python3.6/dist-packages (from requests[socks]>=2.11.1->tweepy>=3.7.0->konlpy) (3.0.4)\n",
            "Requirement already satisfied: urllib3!=1.25.0,!=1.25.1,<1.26,>=1.21.1 in /usr/local/lib/python3.6/dist-packages (from requests[socks]>=2.11.1->tweepy>=3.7.0->konlpy) (1.24.3)\n",
            "Requirement already satisfied: idna<3,>=2.5 in /usr/local/lib/python3.6/dist-packages (from requests[socks]>=2.11.1->tweepy>=3.7.0->konlpy) (2.10)\n",
            "Requirement already satisfied: PySocks!=1.5.7,>=1.5.6; extra == \"socks\" in /usr/local/lib/python3.6/dist-packages (from requests[socks]>=2.11.1->tweepy>=3.7.0->konlpy) (1.7.1)\n",
            "Installing collected packages: beautifulsoup4, JPype1, tweepy, colorama, konlpy\n",
            "  Found existing installation: beautifulsoup4 4.6.3\n",
            "    Uninstalling beautifulsoup4-4.6.3:\n",
            "      Successfully uninstalled beautifulsoup4-4.6.3\n",
            "  Found existing installation: tweepy 3.6.0\n",
            "    Uninstalling tweepy-3.6.0:\n",
            "      Successfully uninstalled tweepy-3.6.0\n",
            "Successfully installed JPype1-1.2.0 beautifulsoup4-4.6.0 colorama-0.4.4 konlpy-0.5.2 tweepy-3.10.0\n"
          ],
          "name": "stdout"
        }
      ]
    },
    {
      "cell_type": "code",
      "metadata": {
        "id": "p83tgzXuKYob"
      },
      "source": [
        "import pandas as pd\r\n",
        "import konlpy.tag\r\n",
        "import re\r\n",
        "from collections import Counter\r\n",
        "import numpy as np"
      ],
      "execution_count": null,
      "outputs": []
    },
    {
      "cell_type": "code",
      "metadata": {
        "id": "CEvhYAW37lWP"
      },
      "source": [
        "df = pd.read_csv('진짜최종댓글.csv')"
      ],
      "execution_count": null,
      "outputs": []
    },
    {
      "cell_type": "markdown",
      "metadata": {
        "id": "cWkTdCpAOp0w"
      },
      "source": [
        "## 1. Labeling"
      ]
    },
    {
      "cell_type": "code",
      "metadata": {
        "id": "tjwIfBlKMV24"
      },
      "source": [
        "#감성어사전 불러오기\r\n",
        "pos = pd.read_table('감성어사전_positive.csv')\r\n",
        "neg = pd.read_table('감성어사전_negative.csv')"
      ],
      "execution_count": null,
      "outputs": []
    },
    {
      "cell_type": "code",
      "metadata": {
        "colab": {
          "base_uri": "https://localhost:8080/"
        },
        "id": "EJPFNYvfNvXH",
        "outputId": "a74c8f90-e507-4e60-866b-e7d2611a88ba"
      },
      "source": [
        "df['score'] = 0\r\n",
        "df['score_label'] = 0\r\n",
        "for i in range(1,len(df['댓글'])):\r\n",
        "  sentence = df['댓글'][i]\r\n",
        "  val = 0\r\n",
        "  for j in range(len(pos)):\r\n",
        "    if pos['긍정'][j] in sentence:\r\n",
        "      val += 1\r\n",
        "  for k in range(len(neg)):\r\n",
        "    if neg['부정'][k] in sentence:\r\n",
        "      val -= 1\r\n",
        "\r\n",
        "  df['score'][i] = val\r\n",
        "\r\n",
        "  if val > 0:\r\n",
        "    df['score_label'][i] = 1 # 긍정\r\n",
        "  elif val < 0:\r\n",
        "    df['score_label'][i] = -1 # 부정\r\n",
        "  else:\r\n",
        "    df['score_label'][i] = 0"
      ],
      "execution_count": null,
      "outputs": [
        {
          "output_type": "stream",
          "text": [
            "/usr/local/lib/python3.6/dist-packages/ipykernel_launcher.py:13: SettingWithCopyWarning: \n",
            "A value is trying to be set on a copy of a slice from a DataFrame\n",
            "\n",
            "See the caveats in the documentation: https://pandas.pydata.org/pandas-docs/stable/user_guide/indexing.html#returning-a-view-versus-a-copy\n",
            "  del sys.path[0]\n",
            "/usr/local/lib/python3.6/dist-packages/ipykernel_launcher.py:16: SettingWithCopyWarning: \n",
            "A value is trying to be set on a copy of a slice from a DataFrame\n",
            "\n",
            "See the caveats in the documentation: https://pandas.pydata.org/pandas-docs/stable/user_guide/indexing.html#returning-a-view-versus-a-copy\n",
            "  app.launch_new_instance()\n",
            "/usr/local/lib/python3.6/dist-packages/ipykernel_launcher.py:20: SettingWithCopyWarning: \n",
            "A value is trying to be set on a copy of a slice from a DataFrame\n",
            "\n",
            "See the caveats in the documentation: https://pandas.pydata.org/pandas-docs/stable/user_guide/indexing.html#returning-a-view-versus-a-copy\n",
            "/usr/local/lib/python3.6/dist-packages/ipykernel_launcher.py:18: SettingWithCopyWarning: \n",
            "A value is trying to be set on a copy of a slice from a DataFrame\n",
            "\n",
            "See the caveats in the documentation: https://pandas.pydata.org/pandas-docs/stable/user_guide/indexing.html#returning-a-view-versus-a-copy\n"
          ],
          "name": "stderr"
        }
      ]
    },
    {
      "cell_type": "code",
      "metadata": {
        "colab": {
          "base_uri": "https://localhost:8080/",
          "height": 402
        },
        "id": "h1UC8kN4N7QD",
        "outputId": "f70038d6-6df9-46af-dd2e-49646f20134a"
      },
      "source": [
        "df"
      ],
      "execution_count": null,
      "outputs": [
        {
          "output_type": "execute_result",
          "data": {
            "text/html": [
              "<div>\n",
              "<style scoped>\n",
              "    .dataframe tbody tr th:only-of-type {\n",
              "        vertical-align: middle;\n",
              "    }\n",
              "\n",
              "    .dataframe tbody tr th {\n",
              "        vertical-align: top;\n",
              "    }\n",
              "\n",
              "    .dataframe thead th {\n",
              "        text-align: right;\n",
              "    }\n",
              "</style>\n",
              "<table border=\"1\" class=\"dataframe\">\n",
              "  <thead>\n",
              "    <tr style=\"text-align: right;\">\n",
              "      <th></th>\n",
              "      <th>댓글</th>\n",
              "      <th>score</th>\n",
              "      <th>score_label</th>\n",
              "    </tr>\n",
              "  </thead>\n",
              "  <tbody>\n",
              "    <tr>\n",
              "      <th>0</th>\n",
              "      <td>자막은 설정에서 활성화 해주세요 안녕하세요 복희예요 요즘 디저트 찹쌀떡 요청이 많아...</td>\n",
              "      <td>0</td>\n",
              "      <td>0</td>\n",
              "    </tr>\n",
              "    <tr>\n",
              "      <th>1</th>\n",
              "      <td>언니 살빠졌죠</td>\n",
              "      <td>1</td>\n",
              "      <td>1</td>\n",
              "    </tr>\n",
              "    <tr>\n",
              "      <th>2</th>\n",
              "      <td>맞아여 찹쌀떡 쫀득쫀득 먹고파지네요</td>\n",
              "      <td>3</td>\n",
              "      <td>1</td>\n",
              "    </tr>\n",
              "    <tr>\n",
              "      <th>3</th>\n",
              "      <td>양평해장국먹방해주세용 제가 진짜 좋아하는거거든요</td>\n",
              "      <td>6</td>\n",
              "      <td>1</td>\n",
              "    </tr>\n",
              "    <tr>\n",
              "      <th>4</th>\n",
              "      <td>설리 닮으신것  같은데  예뻐요</td>\n",
              "      <td>2</td>\n",
              "      <td>1</td>\n",
              "    </tr>\n",
              "    <tr>\n",
              "      <th>...</th>\n",
              "      <td>...</td>\n",
              "      <td>...</td>\n",
              "      <td>...</td>\n",
              "    </tr>\n",
              "    <tr>\n",
              "      <th>58649</th>\n",
              "      <td>맛잇는 음식이네요 적극 구독누릅니다  유튜버 팍민돌 인사 드립니다</td>\n",
              "      <td>2</td>\n",
              "      <td>1</td>\n",
              "    </tr>\n",
              "    <tr>\n",
              "      <th>58650</th>\n",
              "      <td>지랄</td>\n",
              "      <td>-1</td>\n",
              "      <td>-1</td>\n",
              "    </tr>\n",
              "    <tr>\n",
              "      <th>58651</th>\n",
              "      <td>복희야 좀 보고 배워랔</td>\n",
              "      <td>0</td>\n",
              "      <td>0</td>\n",
              "    </tr>\n",
              "    <tr>\n",
              "      <th>58652</th>\n",
              "      <td>아직도  보러옴 근데 보니까 수율이 좀 안좋았네 지금보니 수율</td>\n",
              "      <td>3</td>\n",
              "      <td>1</td>\n",
              "    </tr>\n",
              "    <tr>\n",
              "      <th>58653</th>\n",
              "      <td>조회수 진짜 미친거 같아요 아이돌 뮤비인줄</td>\n",
              "      <td>3</td>\n",
              "      <td>1</td>\n",
              "    </tr>\n",
              "  </tbody>\n",
              "</table>\n",
              "<p>58654 rows × 3 columns</p>\n",
              "</div>"
            ],
            "text/plain": [
              "                                                      댓글  score  score_label\n",
              "0      자막은 설정에서 활성화 해주세요 안녕하세요 복희예요 요즘 디저트 찹쌀떡 요청이 많아...      0            0\n",
              "1                                                언니 살빠졌죠      1            1\n",
              "2                                    맞아여 찹쌀떡 쫀득쫀득 먹고파지네요      3            1\n",
              "3                             양평해장국먹방해주세용 제가 진짜 좋아하는거거든요      6            1\n",
              "4                                      설리 닮으신것  같은데  예뻐요      2            1\n",
              "...                                                  ...    ...          ...\n",
              "58649               맛잇는 음식이네요 적극 구독누릅니다  유튜버 팍민돌 인사 드립니다      2            1\n",
              "58650                                                 지랄     -1           -1\n",
              "58651                                       복희야 좀 보고 배워랔      0            0\n",
              "58652                 아직도  보러옴 근데 보니까 수율이 좀 안좋았네 지금보니 수율      3            1\n",
              "58653                            조회수 진짜 미친거 같아요 아이돌 뮤비인줄      3            1\n",
              "\n",
              "[58654 rows x 3 columns]"
            ]
          },
          "metadata": {
            "tags": []
          },
          "execution_count": 10
        }
      ]
    },
    {
      "cell_type": "markdown",
      "metadata": {
        "id": "2eLGTNKwPW-6"
      },
      "source": [
        "+) 레이블링 데이터 훑어보기"
      ]
    },
    {
      "cell_type": "code",
      "metadata": {
        "colab": {
          "base_uri": "https://localhost:8080/",
          "height": 491
        },
        "id": "AkLoLNmU0RHX",
        "outputId": "4f8a824c-64af-4318-9ed8-8027e5c303dd"
      },
      "source": [
        "df[df['score_label']==1].head(15)"
      ],
      "execution_count": null,
      "outputs": [
        {
          "output_type": "execute_result",
          "data": {
            "text/html": [
              "<div>\n",
              "<style scoped>\n",
              "    .dataframe tbody tr th:only-of-type {\n",
              "        vertical-align: middle;\n",
              "    }\n",
              "\n",
              "    .dataframe tbody tr th {\n",
              "        vertical-align: top;\n",
              "    }\n",
              "\n",
              "    .dataframe thead th {\n",
              "        text-align: right;\n",
              "    }\n",
              "</style>\n",
              "<table border=\"1\" class=\"dataframe\">\n",
              "  <thead>\n",
              "    <tr style=\"text-align: right;\">\n",
              "      <th></th>\n",
              "      <th>댓글</th>\n",
              "      <th>score</th>\n",
              "      <th>score_label</th>\n",
              "    </tr>\n",
              "  </thead>\n",
              "  <tbody>\n",
              "    <tr>\n",
              "      <th>1</th>\n",
              "      <td>언니 살빠졌죠</td>\n",
              "      <td>1</td>\n",
              "      <td>1</td>\n",
              "    </tr>\n",
              "    <tr>\n",
              "      <th>2</th>\n",
              "      <td>맞아여 찹쌀떡 쫀득쫀득 먹고파지네요</td>\n",
              "      <td>3</td>\n",
              "      <td>1</td>\n",
              "    </tr>\n",
              "    <tr>\n",
              "      <th>3</th>\n",
              "      <td>양평해장국먹방해주세용 제가 진짜 좋아하는거거든요</td>\n",
              "      <td>6</td>\n",
              "      <td>1</td>\n",
              "    </tr>\n",
              "    <tr>\n",
              "      <th>4</th>\n",
              "      <td>설리 닮으신것  같은데  예뻐요</td>\n",
              "      <td>2</td>\n",
              "      <td>1</td>\n",
              "    </tr>\n",
              "    <tr>\n",
              "      <th>5</th>\n",
              "      <td>찹쌀떡 목에  잘 걸립니다  꼭꼭  씹어먹어요  심지어  예전 예능프로  떡 빨리먹...</td>\n",
              "      <td>5</td>\n",
              "      <td>1</td>\n",
              "    </tr>\n",
              "    <tr>\n",
              "      <th>7</th>\n",
              "      <td>아메리카노를 못마신다니 뭔가 이것도 귀엽고 치인다</td>\n",
              "      <td>1</td>\n",
              "      <td>1</td>\n",
              "    </tr>\n",
              "    <tr>\n",
              "      <th>9</th>\n",
              "      <td>딸기가디건 짱귀 전 앵두가디건 있는데</td>\n",
              "      <td>2</td>\n",
              "      <td>1</td>\n",
              "    </tr>\n",
              "    <tr>\n",
              "      <th>11</th>\n",
              "      <td>보키언니 인스타 잇으신가영</td>\n",
              "      <td>2</td>\n",
              "      <td>1</td>\n",
              "    </tr>\n",
              "    <tr>\n",
              "      <th>13</th>\n",
              "      <td>몰티져스생크림먹방 보키언니가 하는 거 보고싶어요</td>\n",
              "      <td>8</td>\n",
              "      <td>1</td>\n",
              "    </tr>\n",
              "    <tr>\n",
              "      <th>14</th>\n",
              "      <td>와전에 찹쌀떡 한입에 먹다가 목막혀서 숨도 안쉬어졌던 기억이담부턴 저도 청포도랑 먹...</td>\n",
              "      <td>1</td>\n",
              "      <td>1</td>\n",
              "    </tr>\n",
              "    <tr>\n",
              "      <th>15</th>\n",
              "      <td>언니 가디건 너무귀여워요깜찍해 찰떡이에용</td>\n",
              "      <td>4</td>\n",
              "      <td>1</td>\n",
              "    </tr>\n",
              "    <tr>\n",
              "      <th>16</th>\n",
              "      <td>영상보기전인데 언니가 오물오물하면서 미간을 찌푸리면서 맛있다하고 다 먹으면 아쉽고 ...</td>\n",
              "      <td>6</td>\n",
              "      <td>1</td>\n",
              "    </tr>\n",
              "    <tr>\n",
              "      <th>17</th>\n",
              "      <td>옷도 딸기얔존귀탱</td>\n",
              "      <td>1</td>\n",
              "      <td>1</td>\n",
              "    </tr>\n",
              "    <tr>\n",
              "      <th>19</th>\n",
              "      <td>그냥 한마디만 할게요 사랑해요마지막 개조아</td>\n",
              "      <td>2</td>\n",
              "      <td>1</td>\n",
              "    </tr>\n",
              "    <tr>\n",
              "      <th>21</th>\n",
              "      <td>언니 딸기옷 정보 좀 알려주세요</td>\n",
              "      <td>3</td>\n",
              "      <td>1</td>\n",
              "    </tr>\n",
              "  </tbody>\n",
              "</table>\n",
              "</div>"
            ],
            "text/plain": [
              "                                                   댓글  score  score_label\n",
              "1                                             언니 살빠졌죠      1            1\n",
              "2                                 맞아여 찹쌀떡 쫀득쫀득 먹고파지네요      3            1\n",
              "3                          양평해장국먹방해주세용 제가 진짜 좋아하는거거든요      6            1\n",
              "4                                   설리 닮으신것  같은데  예뻐요      2            1\n",
              "5   찹쌀떡 목에  잘 걸립니다  꼭꼭  씹어먹어요  심지어  예전 예능프로  떡 빨리먹...      5            1\n",
              "7                         아메리카노를 못마신다니 뭔가 이것도 귀엽고 치인다      1            1\n",
              "9                                딸기가디건 짱귀 전 앵두가디건 있는데      2            1\n",
              "11                                     보키언니 인스타 잇으신가영      2            1\n",
              "13                         몰티져스생크림먹방 보키언니가 하는 거 보고싶어요      8            1\n",
              "14  와전에 찹쌀떡 한입에 먹다가 목막혀서 숨도 안쉬어졌던 기억이담부턴 저도 청포도랑 먹...      1            1\n",
              "15                             언니 가디건 너무귀여워요깜찍해 찰떡이에용      4            1\n",
              "16  영상보기전인데 언니가 오물오물하면서 미간을 찌푸리면서 맛있다하고 다 먹으면 아쉽고 ...      6            1\n",
              "17                                          옷도 딸기얔존귀탱      1            1\n",
              "19                            그냥 한마디만 할게요 사랑해요마지막 개조아      2            1\n",
              "21                                  언니 딸기옷 정보 좀 알려주세요      3            1"
            ]
          },
          "metadata": {
            "tags": []
          },
          "execution_count": 10
        }
      ]
    },
    {
      "cell_type": "code",
      "metadata": {
        "colab": {
          "base_uri": "https://localhost:8080/",
          "height": 491
        },
        "id": "tcVMs6wyN393",
        "outputId": "0e956edb-b354-452f-88c4-e90bbf46145d"
      },
      "source": [
        "df[df['score_label']==-1][1000:1015]"
      ],
      "execution_count": null,
      "outputs": [
        {
          "output_type": "execute_result",
          "data": {
            "text/html": [
              "<div>\n",
              "<style scoped>\n",
              "    .dataframe tbody tr th:only-of-type {\n",
              "        vertical-align: middle;\n",
              "    }\n",
              "\n",
              "    .dataframe tbody tr th {\n",
              "        vertical-align: top;\n",
              "    }\n",
              "\n",
              "    .dataframe thead th {\n",
              "        text-align: right;\n",
              "    }\n",
              "</style>\n",
              "<table border=\"1\" class=\"dataframe\">\n",
              "  <thead>\n",
              "    <tr style=\"text-align: right;\">\n",
              "      <th></th>\n",
              "      <th>댓글</th>\n",
              "      <th>score</th>\n",
              "      <th>score_label</th>\n",
              "    </tr>\n",
              "  </thead>\n",
              "  <tbody>\n",
              "    <tr>\n",
              "      <th>5713</th>\n",
              "      <td>편집점</td>\n",
              "      <td>-2</td>\n",
              "      <td>-1</td>\n",
              "    </tr>\n",
              "    <tr>\n",
              "      <th>5715</th>\n",
              "      <td>이것도 쿠캣이냐 양심없네 새우장도 그렇고</td>\n",
              "      <td>-1</td>\n",
              "      <td>-1</td>\n",
              "    </tr>\n",
              "    <tr>\n",
              "      <th>5716</th>\n",
              "      <td>광고 겁나 많네돈벌려고 아주</td>\n",
              "      <td>-2</td>\n",
              "      <td>-1</td>\n",
              "    </tr>\n",
              "    <tr>\n",
              "      <th>5717</th>\n",
              "      <td>그 놈의 요청 누가 했다는겨</td>\n",
              "      <td>-1</td>\n",
              "      <td>-1</td>\n",
              "    </tr>\n",
              "    <tr>\n",
              "      <th>5718</th>\n",
              "      <td>광고주가요</td>\n",
              "      <td>-2</td>\n",
              "      <td>-1</td>\n",
              "    </tr>\n",
              "    <tr>\n",
              "      <th>5721</th>\n",
              "      <td>아니 쉴드치려는 건 아닌데이 분이 뒷광고 한 것도 잘못이지만 어쨌든 뒷광고 맡긴 업...</td>\n",
              "      <td>-7</td>\n",
              "      <td>-1</td>\n",
              "    </tr>\n",
              "    <tr>\n",
              "      <th>5722</th>\n",
              "      <td>이건 제 생각일 수도 있는데 광고를 요청하면 유튜버는 돈을 받는데 뒷광고를 하면 앞...</td>\n",
              "      <td>-1</td>\n",
              "      <td>-1</td>\n",
              "    </tr>\n",
              "    <tr>\n",
              "      <th>5723</th>\n",
              "      <td>와 광고라고 샤인머스켓 비싼거 가줘와서입가심 할려고광고아니었으면 샤인머스켓은 커녕 ...</td>\n",
              "      <td>-2</td>\n",
              "      <td>-1</td>\n",
              "    </tr>\n",
              "    <tr>\n",
              "      <th>5725</th>\n",
              "      <td>여러분증거영상은</td>\n",
              "      <td>-1</td>\n",
              "      <td>-1</td>\n",
              "    </tr>\n",
              "    <tr>\n",
              "      <th>5727</th>\n",
              "      <td>사기꾼이에요</td>\n",
              "      <td>-2</td>\n",
              "      <td>-1</td>\n",
              "    </tr>\n",
              "    <tr>\n",
              "      <th>5729</th>\n",
              "      <td>왜편집하심</td>\n",
              "      <td>-1</td>\n",
              "      <td>-1</td>\n",
              "    </tr>\n",
              "    <tr>\n",
              "      <th>5732</th>\n",
              "      <td>식혜도 광고 아니냐</td>\n",
              "      <td>-1</td>\n",
              "      <td>-1</td>\n",
              "    </tr>\n",
              "    <tr>\n",
              "      <th>5733</th>\n",
              "      <td>이부분에서 한입 다넣고 두번 편집 되더니 비닐소리 개오지게 남 뱉희년</td>\n",
              "      <td>-2</td>\n",
              "      <td>-1</td>\n",
              "    </tr>\n",
              "    <tr>\n",
              "      <th>5735</th>\n",
              "      <td>컵도 광고래</td>\n",
              "      <td>-1</td>\n",
              "      <td>-1</td>\n",
              "    </tr>\n",
              "    <tr>\n",
              "      <th>5737</th>\n",
              "      <td>패드립</td>\n",
              "      <td>-1</td>\n",
              "      <td>-1</td>\n",
              "    </tr>\n",
              "  </tbody>\n",
              "</table>\n",
              "</div>"
            ],
            "text/plain": [
              "                                                     댓글  score  score_label\n",
              "5713                                                편집점     -2           -1\n",
              "5715                             이것도 쿠캣이냐 양심없네 새우장도 그렇고     -1           -1\n",
              "5716                                    광고 겁나 많네돈벌려고 아주     -2           -1\n",
              "5717                                    그 놈의 요청 누가 했다는겨     -1           -1\n",
              "5718                                              광고주가요     -2           -1\n",
              "5721  아니 쉴드치려는 건 아닌데이 분이 뒷광고 한 것도 잘못이지만 어쨌든 뒷광고 맡긴 업...     -7           -1\n",
              "5722  이건 제 생각일 수도 있는데 광고를 요청하면 유튜버는 돈을 받는데 뒷광고를 하면 앞...     -1           -1\n",
              "5723  와 광고라고 샤인머스켓 비싼거 가줘와서입가심 할려고광고아니었으면 샤인머스켓은 커녕 ...     -2           -1\n",
              "5725                                           여러분증거영상은     -1           -1\n",
              "5727                                             사기꾼이에요     -2           -1\n",
              "5729                                              왜편집하심     -1           -1\n",
              "5732                                         식혜도 광고 아니냐     -1           -1\n",
              "5733             이부분에서 한입 다넣고 두번 편집 되더니 비닐소리 개오지게 남 뱉희년     -2           -1\n",
              "5735                                             컵도 광고래     -1           -1\n",
              "5737                                                패드립     -1           -1"
            ]
          },
          "metadata": {
            "tags": []
          },
          "execution_count": 11
        }
      ]
    },
    {
      "cell_type": "code",
      "metadata": {
        "colab": {
          "base_uri": "https://localhost:8080/",
          "height": 491
        },
        "id": "vRyU4SUiPg66",
        "outputId": "b256b981-60c4-4949-bab2-ce5815c282d0"
      },
      "source": [
        "df[df['score_label']==0][100:115]"
      ],
      "execution_count": null,
      "outputs": [
        {
          "output_type": "execute_result",
          "data": {
            "text/html": [
              "<div>\n",
              "<style scoped>\n",
              "    .dataframe tbody tr th:only-of-type {\n",
              "        vertical-align: middle;\n",
              "    }\n",
              "\n",
              "    .dataframe tbody tr th {\n",
              "        vertical-align: top;\n",
              "    }\n",
              "\n",
              "    .dataframe thead th {\n",
              "        text-align: right;\n",
              "    }\n",
              "</style>\n",
              "<table border=\"1\" class=\"dataframe\">\n",
              "  <thead>\n",
              "    <tr style=\"text-align: right;\">\n",
              "      <th></th>\n",
              "      <th>댓글</th>\n",
              "      <th>score</th>\n",
              "      <th>score_label</th>\n",
              "    </tr>\n",
              "  </thead>\n",
              "  <tbody>\n",
              "    <tr>\n",
              "      <th>559</th>\n",
              "      <td>저 떡을 한번에 넣어두 입이 남아여</td>\n",
              "      <td>0</td>\n",
              "      <td>0</td>\n",
              "    </tr>\n",
              "    <tr>\n",
              "      <th>567</th>\n",
              "      <td>오 일분전</td>\n",
              "      <td>0</td>\n",
              "      <td>0</td>\n",
              "    </tr>\n",
              "    <tr>\n",
              "      <th>569</th>\n",
              "      <td>일어나자마자 들어왔는데 복희라니</td>\n",
              "      <td>0</td>\n",
              "      <td>0</td>\n",
              "    </tr>\n",
              "    <tr>\n",
              "      <th>575</th>\n",
              "      <td>찹쌀복희</td>\n",
              "      <td>0</td>\n",
              "      <td>0</td>\n",
              "    </tr>\n",
              "    <tr>\n",
              "      <th>576</th>\n",
              "      <td>초록초록 하네요</td>\n",
              "      <td>0</td>\n",
              "      <td>0</td>\n",
              "    </tr>\n",
              "    <tr>\n",
              "      <th>585</th>\n",
              "      <td>아니 포도를 누가 저렇게 먹어여  푸하항</td>\n",
              "      <td>0</td>\n",
              "      <td>0</td>\n",
              "    </tr>\n",
              "    <tr>\n",
              "      <th>588</th>\n",
              "      <td>얍 출석체크</td>\n",
              "      <td>0</td>\n",
              "      <td>0</td>\n",
              "    </tr>\n",
              "    <tr>\n",
              "      <th>590</th>\n",
              "      <td>복떡복떡</td>\n",
              "      <td>0</td>\n",
              "      <td>0</td>\n",
              "    </tr>\n",
              "    <tr>\n",
              "      <th>591</th>\n",
              "      <td>대박</td>\n",
              "      <td>0</td>\n",
              "      <td>0</td>\n",
              "    </tr>\n",
              "    <tr>\n",
              "      <th>592</th>\n",
              "      <td>꺄</td>\n",
              "      <td>0</td>\n",
              "      <td>0</td>\n",
              "    </tr>\n",
              "    <tr>\n",
              "      <th>593</th>\n",
              "      <td>아니 샤인머스캣을 저렇게 집어 넣는 사람은 또 첨보네  역시 복희다</td>\n",
              "      <td>0</td>\n",
              "      <td>0</td>\n",
              "    </tr>\n",
              "    <tr>\n",
              "      <th>601</th>\n",
              "      <td>안뇽</td>\n",
              "      <td>0</td>\n",
              "      <td>0</td>\n",
              "    </tr>\n",
              "    <tr>\n",
              "      <th>602</th>\n",
              "      <td>그렇군요  지울께요 그부분</td>\n",
              "      <td>0</td>\n",
              "      <td>0</td>\n",
              "    </tr>\n",
              "    <tr>\n",
              "      <th>607</th>\n",
              "      <td>아니 왜 떡먹고 포도먹고 하는거지</td>\n",
              "      <td>0</td>\n",
              "      <td>0</td>\n",
              "    </tr>\n",
              "    <tr>\n",
              "      <th>611</th>\n",
              "      <td>염현경배우닮으셔땅</td>\n",
              "      <td>0</td>\n",
              "      <td>0</td>\n",
              "    </tr>\n",
              "  </tbody>\n",
              "</table>\n",
              "</div>"
            ],
            "text/plain": [
              "                                        댓글  score  score_label\n",
              "559                    저 떡을 한번에 넣어두 입이 남아여      0            0\n",
              "567                                  오 일분전      0            0\n",
              "569                      일어나자마자 들어왔는데 복희라니      0            0\n",
              "575                                   찹쌀복희      0            0\n",
              "576                               초록초록 하네요      0            0\n",
              "585                 아니 포도를 누가 저렇게 먹어여  푸하항      0            0\n",
              "588                                 얍 출석체크      0            0\n",
              "590                                   복떡복떡      0            0\n",
              "591                                     대박      0            0\n",
              "592                                      꺄      0            0\n",
              "593  아니 샤인머스캣을 저렇게 집어 넣는 사람은 또 첨보네  역시 복희다      0            0\n",
              "601                                     안뇽      0            0\n",
              "602                         그렇군요  지울께요 그부분      0            0\n",
              "607                     아니 왜 떡먹고 포도먹고 하는거지      0            0\n",
              "611                              염현경배우닮으셔땅      0            0"
            ]
          },
          "metadata": {
            "tags": []
          },
          "execution_count": 12
        }
      ]
    },
    {
      "cell_type": "markdown",
      "metadata": {
        "id": "WTVVelE_P9PL"
      },
      "source": [
        "## 2. 불용어 처리 & 토큰화"
      ]
    },
    {
      "cell_type": "code",
      "metadata": {
        "id": "ylg4bUapiKBN"
      },
      "source": [
        "okt = konlpy.tag.Okt()"
      ],
      "execution_count": null,
      "outputs": []
    },
    {
      "cell_type": "code",
      "metadata": {
        "id": "urAd-bMcEIb3"
      },
      "source": [
        "#stop=pd.read_csv(\"불용어.csv\", names=['불용어'])\r\n",
        "#stopwords = []\r\n",
        "\r\n",
        "#for k in range(len(stop)):\r\n",
        "#    word_list = stop['불용어'][k]\r\n",
        "#    data = word_list\r\n",
        "#    stopwords.append(data)"
      ],
      "execution_count": null,
      "outputs": []
    },
    {
      "cell_type": "code",
      "metadata": {
        "id": "oRYUkKl5EDhr"
      },
      "source": [
        "# 불용어 제거 함수\r\n",
        "#def remove_stopwords(words):\r\n",
        "#    result = []\r\n",
        "#    for w in words:\r\n",
        "#        if w not in stopwords:\r\n",
        "#            result.append(w)\r\n",
        "#    return result\r\n",
        "                \r\n",
        "# 한 글자 단어 모두 불용어로 처리! 한 글자 제거 함수\r\n",
        "#def remove_onewords(words):\r\n",
        "#    result = []\r\n",
        "#    for w in words:\r\n",
        "#        if len(w) != 1:\r\n",
        "#            result.append(w)\r\n",
        "#    return result"
      ],
      "execution_count": null,
      "outputs": []
    },
    {
      "cell_type": "code",
      "metadata": {
        "id": "YE2g3-N0DPe1"
      },
      "source": [
        "df['형태소'] = df['댓글'].apply(lambda x: okt.morphs(x))\r\n",
        "#df['형태소'] = df[\"형태소\"].apply(remove_stopwords)\r\n",
        "#df['형태소'] = df['형태소'].apply(remove_onewords)"
      ],
      "execution_count": null,
      "outputs": []
    },
    {
      "cell_type": "code",
      "metadata": {
        "colab": {
          "base_uri": "https://localhost:8080/",
          "height": 402
        },
        "id": "gwz90Zp3FGJQ",
        "outputId": "f851724f-d8c9-4594-f9e7-ed8352fcbdd9"
      },
      "source": [
        "df"
      ],
      "execution_count": null,
      "outputs": [
        {
          "output_type": "execute_result",
          "data": {
            "text/html": [
              "<div>\n",
              "<style scoped>\n",
              "    .dataframe tbody tr th:only-of-type {\n",
              "        vertical-align: middle;\n",
              "    }\n",
              "\n",
              "    .dataframe tbody tr th {\n",
              "        vertical-align: top;\n",
              "    }\n",
              "\n",
              "    .dataframe thead th {\n",
              "        text-align: right;\n",
              "    }\n",
              "</style>\n",
              "<table border=\"1\" class=\"dataframe\">\n",
              "  <thead>\n",
              "    <tr style=\"text-align: right;\">\n",
              "      <th></th>\n",
              "      <th>댓글</th>\n",
              "      <th>score</th>\n",
              "      <th>score_label</th>\n",
              "      <th>형태소</th>\n",
              "    </tr>\n",
              "  </thead>\n",
              "  <tbody>\n",
              "    <tr>\n",
              "      <th>0</th>\n",
              "      <td>자막은 설정에서 활성화 해주세요 안녕하세요 복희예요 요즘 디저트 찹쌀떡 요청이 많아...</td>\n",
              "      <td>0</td>\n",
              "      <td>0</td>\n",
              "      <td>[자막, 은, 설정, 에서, 활성화, 해주세요, 안녕하세요, 복희, 예요, 요즘, ...</td>\n",
              "    </tr>\n",
              "    <tr>\n",
              "      <th>1</th>\n",
              "      <td>언니 살빠졌죠</td>\n",
              "      <td>1</td>\n",
              "      <td>1</td>\n",
              "      <td>[언니, 살빠졌죠]</td>\n",
              "    </tr>\n",
              "    <tr>\n",
              "      <th>2</th>\n",
              "      <td>맞아여 찹쌀떡 쫀득쫀득 먹고파지네요</td>\n",
              "      <td>3</td>\n",
              "      <td>1</td>\n",
              "      <td>[맞아여, 찹쌀떡, 쫀득쫀득, 먹고, 파지네요]</td>\n",
              "    </tr>\n",
              "    <tr>\n",
              "      <th>3</th>\n",
              "      <td>양평해장국먹방해주세용 제가 진짜 좋아하는거거든요</td>\n",
              "      <td>6</td>\n",
              "      <td>1</td>\n",
              "      <td>[양평, 해장국, 먹방, 해주세용, 제, 가, 진짜, 좋아하는거거든요]</td>\n",
              "    </tr>\n",
              "    <tr>\n",
              "      <th>4</th>\n",
              "      <td>설리 닮으신것  같은데  예뻐요</td>\n",
              "      <td>2</td>\n",
              "      <td>1</td>\n",
              "      <td>[설리, 닮으신, 것, 같은데, 예뻐요]</td>\n",
              "    </tr>\n",
              "    <tr>\n",
              "      <th>...</th>\n",
              "      <td>...</td>\n",
              "      <td>...</td>\n",
              "      <td>...</td>\n",
              "      <td>...</td>\n",
              "    </tr>\n",
              "    <tr>\n",
              "      <th>58649</th>\n",
              "      <td>맛잇는 음식이네요 적극 구독누릅니다  유튜버 팍민돌 인사 드립니다</td>\n",
              "      <td>2</td>\n",
              "      <td>1</td>\n",
              "      <td>[맛, 잇는, 음식, 이네, 요, 적극, 구독, 누릅니다, 유튜버, 팍민돌, 인사,...</td>\n",
              "    </tr>\n",
              "    <tr>\n",
              "      <th>58650</th>\n",
              "      <td>지랄</td>\n",
              "      <td>-1</td>\n",
              "      <td>-1</td>\n",
              "      <td>[지랄]</td>\n",
              "    </tr>\n",
              "    <tr>\n",
              "      <th>58651</th>\n",
              "      <td>복희야 좀 보고 배워랔</td>\n",
              "      <td>0</td>\n",
              "      <td>0</td>\n",
              "      <td>[복희, 야, 좀, 보고, 배워랔]</td>\n",
              "    </tr>\n",
              "    <tr>\n",
              "      <th>58652</th>\n",
              "      <td>아직도  보러옴 근데 보니까 수율이 좀 안좋았네 지금보니 수율</td>\n",
              "      <td>3</td>\n",
              "      <td>1</td>\n",
              "      <td>[아직도, 보러, 옴, 근데, 보, 니까, 수, 율, 이, 좀, 안좋았네, 지, 금...</td>\n",
              "    </tr>\n",
              "    <tr>\n",
              "      <th>58653</th>\n",
              "      <td>조회수 진짜 미친거 같아요 아이돌 뮤비인줄</td>\n",
              "      <td>3</td>\n",
              "      <td>1</td>\n",
              "      <td>[조, 회수, 진짜, 미친거, 같아요, 아이돌, 뮤비, 인, 줄]</td>\n",
              "    </tr>\n",
              "  </tbody>\n",
              "</table>\n",
              "<p>58654 rows × 4 columns</p>\n",
              "</div>"
            ],
            "text/plain": [
              "                                                      댓글  ...                                                형태소\n",
              "0      자막은 설정에서 활성화 해주세요 안녕하세요 복희예요 요즘 디저트 찹쌀떡 요청이 많아...  ...  [자막, 은, 설정, 에서, 활성화, 해주세요, 안녕하세요, 복희, 예요, 요즘, ...\n",
              "1                                                언니 살빠졌죠  ...                                         [언니, 살빠졌죠]\n",
              "2                                    맞아여 찹쌀떡 쫀득쫀득 먹고파지네요  ...                         [맞아여, 찹쌀떡, 쫀득쫀득, 먹고, 파지네요]\n",
              "3                             양평해장국먹방해주세용 제가 진짜 좋아하는거거든요  ...            [양평, 해장국, 먹방, 해주세용, 제, 가, 진짜, 좋아하는거거든요]\n",
              "4                                      설리 닮으신것  같은데  예뻐요  ...                             [설리, 닮으신, 것, 같은데, 예뻐요]\n",
              "...                                                  ...  ...                                                ...\n",
              "58649               맛잇는 음식이네요 적극 구독누릅니다  유튜버 팍민돌 인사 드립니다  ...  [맛, 잇는, 음식, 이네, 요, 적극, 구독, 누릅니다, 유튜버, 팍민돌, 인사,...\n",
              "58650                                                 지랄  ...                                               [지랄]\n",
              "58651                                       복희야 좀 보고 배워랔  ...                                [복희, 야, 좀, 보고, 배워랔]\n",
              "58652                 아직도  보러옴 근데 보니까 수율이 좀 안좋았네 지금보니 수율  ...  [아직도, 보러, 옴, 근데, 보, 니까, 수, 율, 이, 좀, 안좋았네, 지, 금...\n",
              "58653                            조회수 진짜 미친거 같아요 아이돌 뮤비인줄  ...               [조, 회수, 진짜, 미친거, 같아요, 아이돌, 뮤비, 인, 줄]\n",
              "\n",
              "[58654 rows x 4 columns]"
            ]
          },
          "metadata": {
            "tags": []
          },
          "execution_count": 12
        }
      ]
    },
    {
      "cell_type": "code",
      "metadata": {
        "id": "9sEnWtY4Zfcj"
      },
      "source": [
        "from sklearn.model_selection import train_test_split\r\n",
        "from gensim.models import KeyedVectors\r\n",
        "import numpy as np\r\n",
        "import tensorflow as tf\r\n",
        "from tensorflow.keras.utils import to_categorical\r\n",
        "from tensorflow.keras.layers import Dense, LSTM, Embedding,Bidirectional, Dropout,GRU\r\n",
        "from tensorflow.keras.models import Model,load_model\r\n",
        "from tensorflow.keras.models import Sequential\r\n",
        "from tensorflow.keras.preprocessing.text import Tokenizer\r\n",
        "from tensorflow.keras.preprocessing.sequence import pad_sequences\r\n",
        "from tensorflow.keras.callbacks import EarlyStopping, ModelCheckpoint"
      ],
      "execution_count": null,
      "outputs": []
    },
    {
      "cell_type": "markdown",
      "metadata": {
        "id": "nTOwJyvflM_L"
      },
      "source": [
        "## 3.Train/Test 분리 (+중립/긍정/부정을 나타내는 label 원핫인코딩)"
      ]
    },
    {
      "cell_type": "code",
      "metadata": {
        "id": "zIkYg2VlYhRA"
      },
      "source": [
        "#  데이터 스플릿(훈련 데이터와 테스트 데이터) by sklearn module\r\n",
        "# train:test=7:3\r\n",
        "\r\n",
        "train_x, test_x, train_y, test_y = train_test_split(df['형태소'], df['score_label'], test_size=0.3, random_state=0)"
      ],
      "execution_count": null,
      "outputs": []
    },
    {
      "cell_type": "code",
      "metadata": {
        "id": "ERYGJHYs_BVG"
      },
      "source": [
        "# Score_label 원핫인코딩\r\n",
        "# keras의 to_categorical을 이용해 인자 3만 넣어주면 알아서 원핫인코딩을 해줌\r\n",
        "# 중립(0) = [1,0,0]  /   긍정(1) = [0,1,0]   /  부정(-1) = [0,0,1]\r\n",
        "\r\n",
        "train_y = to_categorical(train_y,3)\r\n",
        "test_y = to_categorical(test_y,3)"
      ],
      "execution_count": null,
      "outputs": []
    },
    {
      "cell_type": "markdown",
      "metadata": {
        "id": "gaVT28LyRISD"
      },
      "source": [
        "## 4.Word2Vec 임베딩 설정"
      ]
    },
    {
      "cell_type": "code",
      "metadata": {
        "id": "zowEpmFbN9sy"
      },
      "source": [
        "from gensim.models.word2vec import Word2Vec\r\n",
        "\r\n",
        "#Word2Vec Embedding (Skip-gram방식 적용, Window size=5, 단어 최소 등장 횟수=5)\r\n",
        "w2v = Word2Vec(df['형태소'], sg=1, window=5, min_count=5)\r\n",
        "w2v.init_sims(replace=True)"
      ],
      "execution_count": null,
      "outputs": []
    },
    {
      "cell_type": "markdown",
      "metadata": {
        "id": "VoF9Yo8q4ERI"
      },
      "source": [
        "## 5. 정수인코딩"
      ]
    },
    {
      "cell_type": "code",
      "metadata": {
        "id": "_NCGpx04Izdd"
      },
      "source": [
        "from keras.preprocessing.text import Tokenizer"
      ],
      "execution_count": null,
      "outputs": []
    },
    {
      "cell_type": "code",
      "metadata": {
        "colab": {
          "base_uri": "https://localhost:8080/"
        },
        "id": "Rqnt6Mv3I_I4",
        "outputId": "ca8a20da-4931-4c5c-cccb-ac232ad8fd00"
      },
      "source": [
        "# max_words 구하기 위해 전체 토큰 개수보기\r\n",
        "tokens = [ t for d in train_x for t in d]\r\n",
        "len(tokens)"
      ],
      "execution_count": null,
      "outputs": [
        {
          "output_type": "execute_result",
          "data": {
            "text/plain": [
              "490903"
            ]
          },
          "metadata": {
            "tags": []
          },
          "execution_count": 18
        }
      ]
    },
    {
      "cell_type": "code",
      "metadata": {
        "id": "Sl4Hgp8qHJc-"
      },
      "source": [
        "train_X=[]\r\n",
        "for sentence in train_x:\r\n",
        "  train_X.append(sentence)\r\n",
        "\r\n",
        "test_X=[]\r\n",
        "for sentence in test_x:\r\n",
        "  test_X.append(sentence)"
      ],
      "execution_count": null,
      "outputs": []
    },
    {
      "cell_type": "code",
      "metadata": {
        "colab": {
          "base_uri": "https://localhost:8080/"
        },
        "id": "4NHb_YWtHwQY",
        "outputId": "f87b8bbe-2a31-4f11-8c36-4a33c23e5860"
      },
      "source": [
        "# 각각 문장단위로 토큰화가 잘되어서 들어가있는지 확인\r\n",
        "train_X[:2]"
      ],
      "execution_count": null,
      "outputs": [
        {
          "output_type": "execute_result",
          "data": {
            "text/plain": [
              "[['대', '대대'],\n",
              " ['목',\n",
              "  '매달',\n",
              "  '아',\n",
              "  '달라',\n",
              "  '는',\n",
              "  '새끼',\n",
              "  '어디',\n",
              "  '갔냐',\n",
              "  '아무리',\n",
              "  '잘못',\n",
              "  '해도',\n",
              "  '그렇지',\n",
              "  '사람',\n",
              "  '목숨',\n",
              "  '가지',\n",
              "  '고',\n",
              "  '장난',\n",
              "  '치는거아니다',\n",
              "  '사과',\n",
              "  '해라']]"
            ]
          },
          "metadata": {
            "tags": []
          },
          "execution_count": 20
        }
      ]
    },
    {
      "cell_type": "code",
      "metadata": {
        "id": "ewyqBhbVL8tV"
      },
      "source": [
        "max_words = len(tokens)+1  \r\n",
        "tokenizer = Tokenizer(num_words = max_words)\r\n",
        "tokenizer.fit_on_texts(train_x)\r\n",
        "train_x = tokenizer.texts_to_sequences(train_X)\r\n",
        "test_x = tokenizer.texts_to_sequences(test_x)"
      ],
      "execution_count": null,
      "outputs": []
    },
    {
      "cell_type": "code",
      "metadata": {
        "colab": {
          "base_uri": "https://localhost:8080/"
        },
        "id": "p21lWWFAb5V1",
        "outputId": "ddc3857a-dc0c-45da-d88b-34d153384705"
      },
      "source": [
        "# 인코딩 잘되었는지 확인\r\n",
        "train_x[:2]"
      ],
      "execution_count": null,
      "outputs": [
        {
          "output_type": "execute_result",
          "data": {
            "text/plain": [
              "[[330, 12524],\n",
              " [233,\n",
              "  579,\n",
              "  24,\n",
              "  698,\n",
              "  12,\n",
              "  368,\n",
              "  272,\n",
              "  3395,\n",
              "  388,\n",
              "  83,\n",
              "  286,\n",
              "  1804,\n",
              "  20,\n",
              "  1408,\n",
              "  539,\n",
              "  38,\n",
              "  1056,\n",
              "  18939,\n",
              "  93,\n",
              "  846]]"
            ]
          },
          "metadata": {
            "tags": []
          },
          "execution_count": 22
        }
      ]
    },
    {
      "cell_type": "markdown",
      "metadata": {
        "id": "KJQWzfsVJ0l3"
      },
      "source": [
        "## 6. Padding   \r\n"
      ]
    },
    {
      "cell_type": "code",
      "metadata": {
        "colab": {
          "base_uri": "https://localhost:8080/",
          "height": 300
        },
        "id": "cFXPun3ZMfTE",
        "outputId": "5442a1f9-0e62-449d-f3bb-c06f534a38dc"
      },
      "source": [
        "%matplotlib inline\r\n",
        "from matplotlib import pyplot as plt\r\n",
        "\r\n",
        "plt.hist([len(sentence) for sentence in df['형태소']], bins=50)\r\n",
        "plt.show()\r\n",
        "\r\n",
        "print('분리된 형태소들 최대길이 : ',max(len(l) for l in df['형태소']))\r\n",
        "print('분리된 형태소들 평균길이 : ',sum(map(len,df['형태소']))/len(df['댓글']))\r\n",
        "\r\n",
        "# result : 최대 길이와 평균길이가 너무 심하게 차이나서 이것만 보고 판단하기 애매"
      ],
      "execution_count": null,
      "outputs": [
        {
          "output_type": "display_data",
          "data": {
            "image/png": "[encoded data removed]",
            "text/plain": [
              "<Figure size 432x288 with 1 Axes>"
            ]
          },
          "metadata": {
            "tags": [],
            "needs_background": "light"
          }
        },
        {
          "output_type": "stream",
          "text": [
            "분리된 형태소들 최대길이 :  671\n",
            "분리된 형태소들 평균길이 :  12.070174242165923\n"
          ],
          "name": "stdout"
        }
      ]
    },
    {
      "cell_type": "code",
      "metadata": {
        "colab": {
          "base_uri": "https://localhost:8080/"
        },
        "id": "Inr2xsg1M0xa",
        "outputId": "88e343cd-e934-49c1-e464-a81f8b92c438"
      },
      "source": [
        "#check length\r\n",
        "def propotion(max_len, sentences):\r\n",
        "  cnt = 0\r\n",
        "  for sent in sentences:\r\n",
        "    if len(sent) <= max_len:\r\n",
        "      cnt += 1\r\n",
        "  print(f'전체 문장 중 길이가 {max_len} 이하인 샘플 비율 : {(cnt/len(sentences))*100}')\r\n",
        "\r\n",
        "for MAX in range(0,100,5):\r\n",
        "  propotion(MAX, df['형태소'])\r\n",
        "\r\n",
        "# result : 길이가 35이 되면서 비율 증가세가 완만해짐 --> 최대 길이 35으로 정하기"
      ],
      "execution_count": null,
      "outputs": [
        {
          "output_type": "stream",
          "text": [
            "전체 문장 중 길이가 0 이하인 샘플 비율 : 0.0\n",
            "전체 문장 중 길이가 5 이하인 샘플 비율 : 36.16803628056058\n",
            "전체 문장 중 길이가 10 이하인 샘플 비율 : 64.44914242847888\n",
            "전체 문장 중 길이가 15 이하인 샘플 비율 : 78.89998977051863\n",
            "전체 문장 중 길이가 20 이하인 샘플 비율 : 86.53800252327207\n",
            "전체 문장 중 길이가 25 이하인 샘플 비율 : 90.77300780850412\n",
            "전체 문장 중 길이가 30 이하인 샘플 비율 : 93.43267296348075\n",
            "전체 문장 중 길이가 35 이하인 샘플 비율 : 95.0421113649538\n",
            "전체 문장 중 길이가 40 이하인 샘플 비율 : 96.08381355065299\n",
            "전체 문장 중 길이가 45 이하인 샘플 비율 : 96.89023766495039\n",
            "전체 문장 중 길이가 50 이하인 샘플 비율 : 97.42046578238484\n",
            "전체 문장 중 길이가 55 이하인 샘플 비율 : 97.85351382684898\n",
            "전체 문장 중 길이가 60 이하인 샘플 비율 : 98.2217751559996\n",
            "전체 문장 중 길이가 65 이하인 샘플 비율 : 98.47239744944932\n",
            "전체 문장 중 길이가 70 이하인 샘플 비율 : 98.68380673099874\n",
            "전체 문장 중 길이가 75 이하인 샘플 비율 : 98.8628226548914\n",
            "전체 문장 중 길이가 80 이하인 샘플 비율 : 98.97023220922699\n",
            "전체 문장 중 길이가 85 이하인 샘플 비율 : 99.09980563985405\n",
            "전체 문장 중 길이가 90 이하인 샘플 비율 : 99.2123299348723\n",
            "전체 문장 중 길이가 95 이하인 샘플 비율 : 99.27882156374672\n"
          ],
          "name": "stdout"
        }
      ]
    },
    {
      "cell_type": "code",
      "metadata": {
        "id": "21SylbekJ0l-"
      },
      "source": [
        "max_len = 35 # 전체 데이터의 길이를 35으로 맞춘다\r\n",
        "\r\n",
        "train_x = pad_sequences(train_x, maxlen=max_len)\r\n",
        "test_x = pad_sequences(test_x, maxlen=max_len)"
      ],
      "execution_count": null,
      "outputs": []
    },
    {
      "cell_type": "code",
      "metadata": {
        "colab": {
          "base_uri": "https://localhost:8080/"
        },
        "id": "vYQ23oROqmQd",
        "outputId": "48586425-fbf0-43fe-abef-c789dd33d053"
      },
      "source": [
        "train_x"
      ],
      "execution_count": null,
      "outputs": [
        {
          "output_type": "execute_result",
          "data": {
            "text/plain": [
              "array([[    0,     0,     0, ...,     0,   330, 12524],\n",
              "       [    0,     0,     0, ..., 18939,    93,   846],\n",
              "       [  612,  4119,  1409, ...,     5, 12526,    19],\n",
              "       ...,\n",
              "       [    0,     0,     0, ...,   107,   356,  3587],\n",
              "       [    0,     0,     0, ..., 17063,  4934,   396],\n",
              "       [    0,     0,     0, ...,    14, 47261,   998]], dtype=int32)"
            ]
          },
          "metadata": {
            "tags": []
          },
          "execution_count": 26
        }
      ]
    },
    {
      "cell_type": "markdown",
      "metadata": {
        "id": "0RmzBsmIAXXS"
      },
      "source": [
        "## 7. word2vec embedding matrix 구축"
      ]
    },
    {
      "cell_type": "code",
      "metadata": {
        "id": "7DogSMPKJUU9"
      },
      "source": [
        "# 위에서 정의한 애들,,\r\n",
        "vocab_size = max_words\r\n",
        "max_len = 35"
      ],
      "execution_count": null,
      "outputs": []
    },
    {
      "cell_type": "code",
      "metadata": {
        "id": "WdI0Gbj3Hlq5"
      },
      "source": [
        "def get_vector(w,model):\r\n",
        "    if w in model:\r\n",
        "        return model[w]\r\n",
        "    else:\r\n",
        "        return None"
      ],
      "execution_count": null,
      "outputs": []
    },
    {
      "cell_type": "code",
      "metadata": {
        "id": "DjppkOMx9plY",
        "colab": {
          "base_uri": "https://localhost:8080/"
        },
        "outputId": "005123a5-ef22-43ae-bcbc-3d7f7f055c04"
      },
      "source": [
        "embedding_vocab = len(tokens)+1\r\n",
        "embedding_dim = 100\r\n",
        "g_embed_100 = np.zeros((embedding_vocab, embedding_dim))\r\n",
        "for idx, word in enumerate(tokens) :\r\n",
        "  temp = get_vector(word,w2v)\r\n",
        "  if temp is not None:\r\n",
        "    g_embed_100[idx] = temp"
      ],
      "execution_count": null,
      "outputs": [
        {
          "output_type": "stream",
          "text": [
            "/usr/local/lib/python3.6/dist-packages/ipykernel_launcher.py:2: DeprecationWarning: Call to deprecated `__contains__` (Method will be removed in 4.0.0, use self.wv.__contains__() instead).\n",
            "  \n",
            "/usr/local/lib/python3.6/dist-packages/ipykernel_launcher.py:3: DeprecationWarning: Call to deprecated `__getitem__` (Method will be removed in 4.0.0, use self.wv.__getitem__() instead).\n",
            "  This is separate from the ipykernel package so we can avoid doing imports until\n"
          ],
          "name": "stderr"
        }
      ]
    },
    {
      "cell_type": "markdown",
      "metadata": {
        "id": "8e5o-SZkH9oI"
      },
      "source": [
        "## 8. modeling"
      ]
    },
    {
      "cell_type": "markdown",
      "metadata": {
        "id": "9piJecjSS8MP"
      },
      "source": [
        "- word2vec이랑 keras 내장 임베딩 비교 : 모델에 적용했을 때 word2vec보다 keras내장 임베딩이 더 우수\r\n",
        "- lstm vs bi-lstm vs GRU : bi-lstm과 GRU 비슷하지만 GRU가 시간절약"
      ]
    },
    {
      "cell_type": "markdown",
      "metadata": {
        "id": "UKliNglV2r5e"
      },
      "source": [
        "(1) word2vec + bilstm"
      ]
    },
    {
      "cell_type": "code",
      "metadata": {
        "id": "fNDAdaT4aSht"
      },
      "source": [
        "bmodel = Sequential()\r\n",
        "bmodel.add(Embedding(vocab_size, 100, input_length=max_len,\r\n",
        "                    weights=[g_embed_100],\r\n",
        "                    mask_zero=True, trainable=False))\r\n",
        "bmodel.add(Bidirectional(LSTM(128, recurrent_dropout=0.2)))\r\n",
        "bmodel.add(Dropout(0.2))\r\n",
        "bmodel.add(Dense(3,activation='softmax'))\r\n",
        "\r\n",
        "#검증 데이터 손실이 4회 증가하면 학습을 중단하는 조기 종료(EarlyStopping)\r\n",
        "#검증 데이터의 정확도가 이전보다 좋아질 경우에만 모델을 저장\r\n",
        "es = EarlyStopping(monitor='val_loss', mode='min', verbose=1, patience=4)\r\n",
        "mc = ModelCheckpoint('GRU_model.h5', monitor='val_acc', mode='max', verbose=1, save_best_only=True)\r\n",
        "\r\n",
        "# compile model\r\n",
        "bmodel.compile(optimizer='adam', loss='categorical_crossentropy', metrics=['accuracy'])\r\n",
        "history1 = bmodel.fit(train_x, train_y, epochs=15, callbacks=[es, mc], batch_size=60, validation_split=0.2)"
      ],
      "execution_count": null,
      "outputs": []
    },
    {
      "cell_type": "code",
      "metadata": {
        "colab": {
          "base_uri": "https://localhost:8080/"
        },
        "id": "YT6Phziov7B2",
        "outputId": "dfd8560e-05ef-4c57-a864-0614ddc7f51c"
      },
      "source": [
        "print('\\n 테스트 정확도 : {:.2f}'.format(model.evaluate(btest_x,btest_y)[1]*100))"
      ],
      "execution_count": null,
      "outputs": [
        {
          "output_type": "stream",
          "text": [
            "124/124 [==============================] - 4s 24ms/step - loss: 1.5050 - accuracy: 0.7377\n",
            "\n",
            " 테스트 정확도 : 73.77\n"
          ],
          "name": "stdout"
        }
      ]
    },
    {
      "cell_type": "markdown",
      "metadata": {
        "id": "_HBqUrE1LQpf"
      },
      "source": [
        "(2) KerasEmbedding+bilstm"
      ]
    },
    {
      "cell_type": "code",
      "metadata": {
        "id": "vfsq93SxMAef"
      },
      "source": [
        "kmodel = Sequential()\r\n",
        "kmodel.add(Embedding(max_words,100))\r\n",
        "kmodel.add(Bidirectional(LSTM(128, recurrent_dropout=0.2)))\r\n",
        "kmodel.add(Dense(3,activation='softmax'))\r\n",
        "\r\n",
        "es = EarlyStopping(monitor='val_loss', mode='min', verbose=1, patience=4)\r\n",
        "mc = ModelCheckpoint('kmodel.h5', monitor='val_acc', mode='max', verbose=1, save_best_only=True)\r\n",
        "\r\n",
        "# compile model\r\n",
        "kmodel.compile(optimizer='adam', loss='categorical_crossentropy', metrics=['accuracy'])\r\n",
        "history2 = kmodel.fit(train_x, train_y, epochs=15, callbacks=[es, mc], batch_size=60, validation_split=0.2)"
      ],
      "execution_count": null,
      "outputs": []
    },
    {
      "cell_type": "code",
      "metadata": {
        "colab": {
          "base_uri": "https://localhost:8080/"
        },
        "id": "9DSjenZeWjXH",
        "outputId": "862175bd-55f4-4c64-c668-3b602540824c"
      },
      "source": [
        "loaded_model = load_model('kmodel.h5')\r\n",
        "print('\\n 테스트 정확도 : {:.2f}'.format(kmodel.evaluate(test_x,test_y)[1]*100))"
      ],
      "execution_count": null,
      "outputs": [
        {
          "output_type": "stream",
          "text": [
            "WARNING:tensorflow:Layer lstm_2 will not use cuDNN kernel since it doesn't meet the cuDNN kernel criteria. It will use generic GPU kernel as fallback when running on GPU\n",
            "WARNING:tensorflow:Layer lstm_2 will not use cuDNN kernel since it doesn't meet the cuDNN kernel criteria. It will use generic GPU kernel as fallback when running on GPU\n",
            "WARNING:tensorflow:Layer lstm_2 will not use cuDNN kernel since it doesn't meet the cuDNN kernel criteria. It will use generic GPU kernel as fallback when running on GPU\n",
            "550/550 [==============================] - 11s 20ms/step - loss: 0.7696 - accuracy: 0.8155\n",
            "\n",
            " 테스트 정확도 : 81.55\n"
          ],
          "name": "stdout"
        }
      ]
    },
    {
      "cell_type": "markdown",
      "metadata": {
        "id": "bwm7-e23Ljmu"
      },
      "source": [
        "(3) kerasEmbedding+GRU    \r\n",
        "** 최종 모형으로 선택!!\r\n"
      ]
    },
    {
      "cell_type": "code",
      "metadata": {
        "colab": {
          "base_uri": "https://localhost:8080/"
        },
        "id": "ze4E4ntvjXzK",
        "outputId": "e2775d45-7a34-4c41-9244-e33474ce3f0c"
      },
      "source": [
        "model = Sequential()\r\n",
        "model.add(Embedding(vocab_size, 100, input_length=max_len,\r\n",
        "                    weights=[g_embed_100],\r\n",
        "                    mask_zero=True, trainable=False))\r\n",
        "model.add(GRU(100))\r\n",
        "model.add(Dense(100,activation='relu'))\r\n",
        "model.add(Dropout(0.2))\r\n",
        "model.add(Dense(3,activation='softmax'))\r\n",
        "\r\n",
        "es = EarlyStopping(monitor='val_loss', mode='min', verbose=1, patience=4)\r\n",
        "mc = ModelCheckpoint('GRU.h5', monitor='val_acc', mode='max', verbose=1, save_best_only=True)\r\n",
        "model.summary()"
      ],
      "execution_count": null,
      "outputs": [
        {
          "output_type": "stream",
          "text": [
            "Model: \"sequential\"\n",
            "_________________________________________________________________\n",
            "Layer (type)                 Output Shape              Param #   \n",
            "=================================================================\n",
            "embedding (Embedding)        (None, 35, 100)           49090400  \n",
            "_________________________________________________________________\n",
            "gru (GRU)                    (None, 100)               60600     \n",
            "_________________________________________________________________\n",
            "dense (Dense)                (None, 100)               10100     \n",
            "_________________________________________________________________\n",
            "dropout (Dropout)            (None, 100)               0         \n",
            "_________________________________________________________________\n",
            "dense_1 (Dense)              (None, 3)                 303       \n",
            "=================================================================\n",
            "Total params: 49,161,403\n",
            "Trainable params: 71,003\n",
            "Non-trainable params: 49,090,400\n",
            "_________________________________________________________________\n"
          ],
          "name": "stdout"
        }
      ]
    },
    {
      "cell_type": "code",
      "metadata": {
        "colab": {
          "base_uri": "https://localhost:8080/"
        },
        "id": "FwMQI_pYjjPA",
        "outputId": "53a7dc9c-0e72-4d9c-b8b0-c5102d896fdb"
      },
      "source": [
        "model.compile(optimizer='adam', loss='categorical_crossentropy', metrics=['accuracy'])\r\n",
        "history = model.fit(train_x, train_y, epochs=15, callbacks=[es, mc], batch_size=40, validation_split=0.1)\r\n",
        "model.summary()"
      ],
      "execution_count": null,
      "outputs": [
        {
          "output_type": "stream",
          "text": [
            "Epoch 1/15\n",
            "924/924 [==============================] - 40s 37ms/step - loss: 0.9681 - accuracy: 0.5516 - val_loss: 0.8606 - val_accuracy: 0.6189\n",
            "WARNING:tensorflow:Can save best model only with val_acc available, skipping.\n",
            "Epoch 2/15\n",
            "924/924 [==============================] - 31s 34ms/step - loss: 0.8640 - accuracy: 0.6144 - val_loss: 0.8281 - val_accuracy: 0.6325\n",
            "WARNING:tensorflow:Can save best model only with val_acc available, skipping.\n",
            "Epoch 3/15\n",
            "924/924 [==============================] - 32s 34ms/step - loss: 0.8333 - accuracy: 0.6309 - val_loss: 0.8193 - val_accuracy: 0.6364\n",
            "WARNING:tensorflow:Can save best model only with val_acc available, skipping.\n",
            "Epoch 4/15\n",
            "924/924 [==============================] - 32s 34ms/step - loss: 0.8153 - accuracy: 0.6378 - val_loss: 0.8037 - val_accuracy: 0.6500\n",
            "WARNING:tensorflow:Can save best model only with val_acc available, skipping.\n",
            "Epoch 5/15\n",
            "924/924 [==============================] - 32s 35ms/step - loss: 0.7967 - accuracy: 0.6474 - val_loss: 0.7964 - val_accuracy: 0.6498\n",
            "WARNING:tensorflow:Can save best model only with val_acc available, skipping.\n",
            "Epoch 6/15\n",
            "924/924 [==============================] - 32s 35ms/step - loss: 0.7783 - accuracy: 0.6573 - val_loss: 0.7923 - val_accuracy: 0.6568\n",
            "WARNING:tensorflow:Can save best model only with val_acc available, skipping.\n",
            "Epoch 7/15\n",
            "924/924 [==============================] - 32s 34ms/step - loss: 0.7621 - accuracy: 0.6684 - val_loss: 0.7733 - val_accuracy: 0.6637\n",
            "WARNING:tensorflow:Can save best model only with val_acc available, skipping.\n",
            "Epoch 8/15\n",
            "924/924 [==============================] - 32s 35ms/step - loss: 0.7576 - accuracy: 0.6706 - val_loss: 0.7872 - val_accuracy: 0.6637\n",
            "WARNING:tensorflow:Can save best model only with val_acc available, skipping.\n",
            "Epoch 9/15\n",
            "924/924 [==============================] - 32s 34ms/step - loss: 0.7382 - accuracy: 0.6753 - val_loss: 0.7824 - val_accuracy: 0.6617\n",
            "WARNING:tensorflow:Can save best model only with val_acc available, skipping.\n",
            "Epoch 10/15\n",
            "924/924 [==============================] - 32s 34ms/step - loss: 0.7252 - accuracy: 0.6876 - val_loss: 0.7818 - val_accuracy: 0.6659\n",
            "WARNING:tensorflow:Can save best model only with val_acc available, skipping.\n",
            "Epoch 11/15\n",
            "924/924 [==============================] - 32s 35ms/step - loss: 0.7165 - accuracy: 0.6930 - val_loss: 0.7719 - val_accuracy: 0.6671\n",
            "WARNING:tensorflow:Can save best model only with val_acc available, skipping.\n",
            "Epoch 12/15\n",
            "924/924 [==============================] - 32s 34ms/step - loss: 0.6999 - accuracy: 0.6962 - val_loss: 0.7727 - val_accuracy: 0.6702\n",
            "WARNING:tensorflow:Can save best model only with val_acc available, skipping.\n",
            "Epoch 13/15\n",
            "924/924 [==============================] - 32s 35ms/step - loss: 0.6840 - accuracy: 0.7058 - val_loss: 0.7746 - val_accuracy: 0.6663\n",
            "WARNING:tensorflow:Can save best model only with val_acc available, skipping.\n",
            "Epoch 14/15\n",
            "924/924 [==============================] - 32s 34ms/step - loss: 0.6675 - accuracy: 0.7146 - val_loss: 0.7881 - val_accuracy: 0.6649\n",
            "WARNING:tensorflow:Can save best model only with val_acc available, skipping.\n",
            "Epoch 15/15\n",
            "924/924 [==============================] - 32s 35ms/step - loss: 0.6473 - accuracy: 0.7199 - val_loss: 0.7901 - val_accuracy: 0.6683\n",
            "WARNING:tensorflow:Can save best model only with val_acc available, skipping.\n",
            "Epoch 00015: early stopping\n",
            "Model: \"sequential\"\n",
            "_________________________________________________________________\n",
            "Layer (type)                 Output Shape              Param #   \n",
            "=================================================================\n",
            "embedding (Embedding)        (None, 35, 100)           49090400  \n",
            "_________________________________________________________________\n",
            "gru (GRU)                    (None, 100)               60600     \n",
            "_________________________________________________________________\n",
            "dense (Dense)                (None, 100)               10100     \n",
            "_________________________________________________________________\n",
            "dropout (Dropout)            (None, 100)               0         \n",
            "_________________________________________________________________\n",
            "dense_1 (Dense)              (None, 3)                 303       \n",
            "=================================================================\n",
            "Total params: 49,161,403\n",
            "Trainable params: 71,003\n",
            "Non-trainable params: 49,090,400\n",
            "_________________________________________________________________\n"
          ],
          "name": "stdout"
        }
      ]
    },
    {
      "cell_type": "markdown",
      "metadata": {
        "id": "2ATCT0NgM-l6"
      },
      "source": [
        "## 9. Result"
      ]
    },
    {
      "cell_type": "code",
      "metadata": {
        "colab": {
          "base_uri": "https://localhost:8080/",
          "height": 295
        },
        "id": "puBDOUujbsKy",
        "outputId": "6de2bd6f-4463-4e54-c771-73a73b214fd6"
      },
      "source": [
        "import matplotlib.pyplot as plt\r\n",
        "\r\n",
        "loss = history.history['loss']\r\n",
        "val_loss = history.history['val_loss']\r\n",
        "\r\n",
        "epochs = range(1, len(loss) + 1)\r\n",
        "\r\n",
        "plt.plot(epochs, loss, 'bo', label='Training loss')\r\n",
        "plt.plot(epochs, val_loss, 'b', label='Validation loss')\r\n",
        "plt.title('Training and validation loss')\r\n",
        "plt.xlabel('Epochs')\r\n",
        "plt.ylabel('Loss')\r\n",
        "plt.legend()\r\n",
        "\r\n",
        "plt.show()"
      ],
      "execution_count": null,
      "outputs": [
        {
          "output_type": "display_data",
          "data": {
            "image/png": "[encoded data removed]",
            "text/plain": [
              "<Figure size 432x288 with 1 Axes>"
            ]
          },
          "metadata": {
            "tags": [],
            "needs_background": "light"
          }
        }
      ]
    },
    {
      "cell_type": "code",
      "metadata": {
        "colab": {
          "base_uri": "https://localhost:8080/",
          "height": 295
        },
        "id": "dM6lnDz0cCCX",
        "outputId": "5a8e9564-4675-42f7-d8d6-56966eb5afbf"
      },
      "source": [
        "plt.clf() \r\n",
        "\r\n",
        "acc = history.history['accuracy']\r\n",
        "val_acc = history.history['val_accuracy']\r\n",
        "\r\n",
        "plt.plot(epochs, acc, 'bo', label='Training acc')\r\n",
        "plt.plot(epochs, val_acc, 'b', label='Validation acc')\r\n",
        "plt.title('Training and validation accuracy')\r\n",
        "plt.xlabel('Epochs')\r\n",
        "plt.ylabel('Accuracy')\r\n",
        "plt.legend()\r\n",
        "\r\n",
        "plt.show()"
      ],
      "execution_count": null,
      "outputs": [
        {
          "output_type": "display_data",
          "data": {
            "image/png": "[encoded data removed]",
            "text/plain": [
              "<Figure size 432x288 with 1 Axes>"
            ]
          },
          "metadata": {
            "tags": [],
            "needs_background": "light"
          }
        }
      ]
    },
    {
      "cell_type": "markdown",
      "metadata": {
        "id": "k5YwT9AcNJFg"
      },
      "source": [
        "### +) 실제 데이터 예측해보기"
      ]
    },
    {
      "cell_type": "code",
      "metadata": {
        "id": "S0fghkjzKJ0F"
      },
      "source": [
        "def sentiment_predict(new_sentence):\r\n",
        "  new_sentence = okt.morphs(new_sentence, stem=True) # 토큰화\r\n",
        "  new_sentence = [word for word in new_sentence if not word in stopwords] # 불용어 제거\r\n",
        "  encoded = tokenizer.texts_to_sequences([new_sentence]) # 정수 인코딩\r\n",
        "  pad_new = pad_sequences(encoded, maxlen = max_len) # 패딩\r\n",
        "  prediction = model.predict(pad_new)\r\n",
        "  score = np.argmax(prediction)\r\n",
        "  if score == 1:\r\n",
        "    print(\"이 문장은 긍정입니다.\")\r\n",
        "  elif score == 2:\r\n",
        "    print('이 문장은 부정입니다.')\r\n",
        "  else:\r\n",
        "    print('이 문장은 중립입니다.')"
      ],
      "execution_count": null,
      "outputs": []
    },
    {
      "cell_type": "code",
      "metadata": {
        "colab": {
          "base_uri": "https://localhost:8080/"
        },
        "id": "y9R0gl40Z-xA",
        "outputId": "e52913c6-599e-4845-bb26-e6214b2f4d0a"
      },
      "source": [
        "sentiment_predict('형 영상볼때마다 구독자수도 보는데 올라올때마다 구독자수가 곰방곰방 느네요... 형 매력때문인가')"
      ],
      "execution_count": null,
      "outputs": [
        {
          "output_type": "stream",
          "text": [
            "이 문장은 긍정입니다.\n"
          ],
          "name": "stdout"
        }
      ]
    },
    {
      "cell_type": "code",
      "metadata": {
        "colab": {
          "base_uri": "https://localhost:8080/"
        },
        "id": "D7PqGHFKS_JN",
        "outputId": "6f6df159-ddc7-4000-e627-e428b6c078d7"
      },
      "source": [
        "sentiment_predict('솔직히 너무 좋은거 같아 질리지를 않아,,')"
      ],
      "execution_count": null,
      "outputs": [
        {
          "output_type": "stream",
          "text": [
            "이 문장은 긍정입니다.\n"
          ],
          "name": "stdout"
        }
      ]
    },
    {
      "cell_type": "code",
      "metadata": {
        "colab": {
          "base_uri": "https://localhost:8080/"
        },
        "id": "RpzhpxR7TkSa",
        "outputId": "5afd105a-3099-474e-b4b1-7c463ece41e6"
      },
      "source": [
        "sentiment_predict('썸넬보고 와 뭐야 존나잘생겼다~ 이러면서 들어왔는데 저에옄 이러는순간 깬다,,,,,,')"
      ],
      "execution_count": null,
      "outputs": [
        {
          "output_type": "stream",
          "text": [
            "이 문장은 긍정입니다.\n"
          ],
          "name": "stdout"
        }
      ]
    },
    {
      "cell_type": "code",
      "metadata": {
        "colab": {
          "base_uri": "https://localhost:8080/"
        },
        "id": "98ZGfFsWUX5n",
        "outputId": "17940e08-f537-4976-d47c-99f55bb742c8"
      },
      "source": [
        "sentiment_predict('아니영상은 본인이 찍고 싶으면 찍어두되는데사실 뒷광고 땜에 걸리면 조용히 있거나 채널삭죄하는것이 올바른거임내생각.  아아니다ㅋㅋ 해명은 언죄하셔유')"
      ],
      "execution_count": null,
      "outputs": [
        {
          "output_type": "stream",
          "text": [
            "이 문장은 부정입니다.\n"
          ],
          "name": "stdout"
        }
      ]
    },
    {
      "cell_type": "code",
      "metadata": {
        "colab": {
          "base_uri": "https://localhost:8080/"
        },
        "id": "LRCaK0tbodbj",
        "outputId": "4beb0aed-0fce-4ed8-9691-7a632c3ee744"
      },
      "source": [
        "sentiment_predict('장마피해에 기부좀 하세요-- 광고수익으로좀 가증스럽네요')"
      ],
      "execution_count": null,
      "outputs": [
        {
          "output_type": "stream",
          "text": [
            "이 문장은 부정입니다.\n"
          ],
          "name": "stdout"
        }
      ]
    },
    {
      "cell_type": "code",
      "metadata": {
        "colab": {
          "base_uri": "https://localhost:8080/"
        },
        "id": "8VcFG-5YpOoI",
        "outputId": "e479fcdf-b10d-4135-c7f6-dd6b9d5662cd"
      },
      "source": [
        "sentiment_predict('상윤쓰인가그놈도광고랑협찬헷갈렷다고순수한척다하드만.... 쉴드러오지던데 개빠는애들도싫고')"
      ],
      "execution_count": null,
      "outputs": [
        {
          "output_type": "stream",
          "text": [
            "이 문장은 부정입니다.\n"
          ],
          "name": "stdout"
        }
      ]
    },
    {
      "cell_type": "code",
      "metadata": {
        "colab": {
          "base_uri": "https://localhost:8080/"
        },
        "id": "pv-o3mhPpQ0e",
        "outputId": "332a652f-8e15-4749-e012-0062779e8892"
      },
      "source": [
        "sentiment_predict('남편이 일하는 회사 홍보해준거다 이렇게 이야기하면 될껄 이리 저리 핑계만되니.. 의혹만 쌓이는거에요')"
      ],
      "execution_count": null,
      "outputs": [
        {
          "output_type": "stream",
          "text": [
            "이 문장은 부정입니다.\n"
          ],
          "name": "stdout"
        }
      ]
    },
    {
      "cell_type": "code",
      "metadata": {
        "colab": {
          "base_uri": "https://localhost:8080/"
        },
        "id": "ZYRdvTk5p3PZ",
        "outputId": "1a8f31b5-8932-4ff3-a6b2-d122e6ed6ecb"
      },
      "source": [
        "sentiment_predict('써김 약간 초심 안잃을듯한 유튜버랄까요? 초반보다 유명해지고 돈 많이 생겨도 열심히 일 하고 초심 잃지않는 모습만 보여주니 더 호감이 생기는거같아요! 더 흥해라!')"
      ],
      "execution_count": null,
      "outputs": [
        {
          "output_type": "stream",
          "text": [
            "이 문장은 긍정입니다.\n"
          ],
          "name": "stdout"
        }
      ]
    }
  ]
}